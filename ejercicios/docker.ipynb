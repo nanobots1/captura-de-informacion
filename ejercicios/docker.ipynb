{
 "cells": [
  {
   "cell_type": "code",
   "execution_count": null,
   "id": "866a4023-940d-4fe9-a558-ee420ad5b627",
   "metadata": {},
   "outputs": [],
   "source": [
    "#https://www.youtube.com/watch?v=yY6zPCKfA0Y\n",
    "#https://geekflare.com/es/docker-manage-containers/\n",
    "#https://platzi.com/tutoriales/1432-docker-2018/3268-como-crear-un-contenedor-con-docker-mysql-y-persistir-la-informacion/\n",
    "#https://www.digitalocean.com/community/tutorials/how-to-use-docker-exec-to-run-commands-in-a-docker-container\n",
    "#https://platzi.com/tutoriales/1432-docker-2018/3268-como-crear-un-contenedor-con-docker-mysql-y-persistir-la-informacion/\n",
    "#https://yeralway1.medium.com/tutorial-de-mysql-con-docker-d6945d61f74d\n",
    "#https://medium.com/analytics-vidhya/importing-data-from-a-mysql-database-into-pandas-data-frame-a06e392d27d7\n",
    "#https://bobbyhadz.com/blog/python-no-module-named-mysql\n",
    "#https://github.com/JorgeCardona/skills/blob/master/Bases%20de%20datos/SQL/Fundamentos_SQL.ipynb"
   ]
  },
  {
   "cell_type": "code",
   "execution_count": 3,
   "id": "f8e1df31-eb18-44b7-a867-c341d33e114b",
   "metadata": {},
   "outputs": [
    {
     "name": "stdout",
     "output_type": "stream",
     "text": [
      "Python 3.8.18\n"
     ]
    }
   ],
   "source": [
    "!python --version"
   ]
  },
  {
   "cell_type": "code",
   "execution_count": 2,
   "id": "addd038a-e609-421a-87e4-6b785c0d07cf",
   "metadata": {},
   "outputs": [
    {
     "name": "stdout",
     "output_type": "stream",
     "text": [
      "Docker version 24.0.7, build afdd53b\n"
     ]
    }
   ],
   "source": [
    "!docker --version"
   ]
  },
  {
   "cell_type": "code",
   "execution_count": 1,
   "id": "baf01c0f-e546-4e3b-9abf-a2b78e7b7bd2",
   "metadata": {},
   "outputs": [
    {
     "name": "stdout",
     "output_type": "stream",
     "text": [
      "ae223183e5766f82b4f0e763dec5522d4cdccb113cf0c11293a5cc3a72918b62\n"
     ]
    },
    {
     "name": "stderr",
     "output_type": "stream",
     "text": [
      "Unable to find image 'mysql:latest' locally\n",
      "latest: Pulling from library/mysql\n",
      "e9f2695d7e5b: Pulling fs layer\n",
      "80c6055edb33: Pulling fs layer\n",
      "c646ab461d8b: Pulling fs layer\n",
      "012006c6a591: Pulling fs layer\n",
      "929d5fa34b95: Pulling fs layer\n",
      "17e0243877fa: Pulling fs layer\n",
      "1850b459cd2f: Pulling fs layer\n",
      "8dceaed53baf: Pulling fs layer\n",
      "197b834ea1cd: Pulling fs layer\n",
      "8df78c25b227: Pulling fs layer\n",
      "17e0243877fa: Waiting\n",
      "197b834ea1cd: Waiting\n",
      "8df78c25b227: Waiting\n",
      "1850b459cd2f: Waiting\n",
      "8dceaed53baf: Waiting\n",
      "012006c6a591: Waiting\n",
      "929d5fa34b95: Waiting\n",
      "80c6055edb33: Verifying Checksum\n",
      "80c6055edb33: Download complete\n",
      "c646ab461d8b: Verifying Checksum\n",
      "c646ab461d8b: Download complete\n",
      "929d5fa34b95: Verifying Checksum\n",
      "929d5fa34b95: Download complete\n",
      "012006c6a591: Verifying Checksum\n",
      "012006c6a591: Download complete\n",
      "17e0243877fa: Verifying Checksum\n",
      "17e0243877fa: Download complete\n",
      "8dceaed53baf: Verifying Checksum\n",
      "8dceaed53baf: Download complete\n",
      "e9f2695d7e5b: Download complete\n",
      "8df78c25b227: Verifying Checksum\n",
      "8df78c25b227: Download complete\n",
      "e9f2695d7e5b: Pull complete\n",
      "80c6055edb33: Pull complete\n",
      "c646ab461d8b: Pull complete\n",
      "012006c6a591: Pull complete\n",
      "929d5fa34b95: Pull complete\n",
      "17e0243877fa: Pull complete\n",
      "197b834ea1cd: Verifying Checksum\n",
      "197b834ea1cd: Download complete\n",
      "1850b459cd2f: Verifying Checksum\n",
      "1850b459cd2f: Download complete\n",
      "1850b459cd2f: Pull complete\n",
      "8dceaed53baf: Pull complete\n",
      "197b834ea1cd: Pull complete\n",
      "8df78c25b227: Pull complete\n",
      "Digest: sha256:ceb98918916bd5261b3e9866ac8271d75d276b8a4db56f1dc190770342a77a9b\n",
      "Status: Downloaded newer image for mysql:latest\n"
     ]
    }
   ],
   "source": [
    "###############    creo base de datos Mysql en docker ######################\n",
    "#!docker run -d -p 88888:3306 --name scraper -e mysql_root:password=nanobots mysql\n",
    "#docker run -d -p 33060:3306 --name scaper-db -e MYSQL_ROOT_PASSWORD=nanobots mysql\n",
    "#docker run -d -p 33060:3306 --name mysql-db -e MYSQL_ROOT_PASSWORD=secret mysql\n",
    "!docker run -p 33060:3306 --name scraper-db -e MYSQL_ROOT_PASSWORD=nanobots -d mysql:latest"
   ]
  },
  {
   "cell_type": "code",
   "execution_count": 4,
   "id": "1fc2d483-6134-481b-a5cb-ff96e8164c95",
   "metadata": {},
   "outputs": [
    {
     "name": "stdout",
     "output_type": "stream",
     "text": [
      "CONTAINER ID   IMAGE          COMMAND                  CREATED         STATUS         PORTS                                NAMES\n",
      "ae223183e576   mysql:latest   \"docker-entrypoint.sâ€¦\"   2 minutes ago   Up 2 minutes   33060/tcp, 0.0.0.0:33060->3306/tcp   scraper-db\n"
     ]
    }
   ],
   "source": [
    "#############  Consulto contenedores creados ################\n",
    "!docker ps -a"
   ]
  },
  {
   "cell_type": "code",
   "execution_count": 8,
   "id": "f4d3627e-1d64-4f8f-8c2f-f2331becb0e6",
   "metadata": {},
   "outputs": [
    {
     "name": "stdout",
     "output_type": "stream",
     "text": [
      "633307e8f7e1\n"
     ]
    }
   ],
   "source": [
    "#############  para detener contenedores ################\n",
    "!docker stop 633307e8f7e1"
   ]
  },
  {
   "cell_type": "code",
   "execution_count": 9,
   "id": "af288626-8d0b-4a04-8137-a215830d72cf",
   "metadata": {},
   "outputs": [
    {
     "name": "stdout",
     "output_type": "stream",
     "text": [
      "633307e8f7e1\n"
     ]
    }
   ],
   "source": [
    "#############  para eliminar contenedores ################\n",
    "!docker rm -f 633307e8f7e1"
   ]
  },
  {
   "cell_type": "code",
   "execution_count": 10,
   "id": "e02a503c-9043-42eb-8c87-a99ee8967cdc",
   "metadata": {},
   "outputs": [
    {
     "name": "stdout",
     "output_type": "stream",
     "text": [
      "462e6eedc1e90755fcba1c19d9834b1896a4e5a8b54f3d747108f2d886d93817\n"
     ]
    }
   ],
   "source": [
    "###############  listo volumenes docker ############\n",
    "!docker volume ls -q"
   ]
  },
  {
   "cell_type": "code",
   "execution_count": 12,
   "id": "66b3f487-e31b-4e9e-b3a3-1c2e6b480fa1",
   "metadata": {},
   "outputs": [
    {
     "data": {
      "text/plain": [
       "CompletedProcess(args='docker volume ls -q | xargs docker volume rm', returncode=255)"
      ]
     },
     "execution_count": 12,
     "metadata": {},
     "output_type": "execute_result"
    }
   ],
   "source": [
    "###############  elimino volumenes docker ############\n",
    "import subprocess\n",
    "\n",
    "# Comando para eliminar todos los volúmenes Docker\n",
    "comando = \"docker volume ls -q | xargs docker volume rm\"\n",
    "\n",
    "# Ejecuta el comando en el sistema\n",
    "subprocess.run(comando, shell=True)"
   ]
  },
  {
   "cell_type": "code",
   "execution_count": 10,
   "id": "b8a680a4-c4c5-469f-816e-498acdb68114",
   "metadata": {},
   "outputs": [
    {
     "name": "stderr",
     "output_type": "stream",
     "text": [
      "the input device is not a TTY.  If you are using mintty, try prefixing the command with 'winpty'\n"
     ]
    }
   ],
   "source": [
    "!docker exec -it 601ccaae02b4 mysql -p"
   ]
  },
  {
   "cell_type": "code",
   "execution_count": 50,
   "id": "c1236459-b465-4bb9-aa0e-aacd961a1a4c",
   "metadata": {},
   "outputs": [],
   "source": [
    "#!docker start 00f2b492921f"
   ]
  },
  {
   "cell_type": "code",
   "execution_count": null,
   "id": "986a9d10-2a65-443a-b116-960b81c5546f",
   "metadata": {},
   "outputs": [],
   "source": [
    "#create database capturadelainfo;"
   ]
  },
  {
   "cell_type": "code",
   "execution_count": null,
   "id": "311a9cb1-2571-490a-95c0-0f776d07e7a7",
   "metadata": {},
   "outputs": [],
   "source": [
    "#use capturadelainfo"
   ]
  },
  {
   "cell_type": "code",
   "execution_count": 11,
   "id": "1a96f1b3-4445-4858-84f5-f2d7d8a3df43",
   "metadata": {},
   "outputs": [],
   "source": [
    " #create table tp1 (\n",
    " #    id mediumint not null auto_increment,\n",
    " #    name char(30) not null,\n",
    " #    creado datetime default current_timestamp on update current_timestamp,\n",
    " #    primary key (id)\n",
    "#);"
   ]
  },
  {
   "cell_type": "code",
   "execution_count": null,
   "id": "b0847d73-3f34-4cbe-8f34-30a9fa4138ca",
   "metadata": {},
   "outputs": [],
   "source": [
    "!docker run --name prueba_docker --rm -e MYSQL_DATABASE=digitos -e MYSQL_PASSWORD=nanobots -e MYSQL_USER=root -e MYSQL_ROOT_PASSWORD=root -d -p 33060:3306 mysql"
   ]
  },
  {
   "cell_type": "code",
   "execution_count": 51,
   "id": "42fdd92d-ef38-4447-87ce-469abc82ee0a",
   "metadata": {},
   "outputs": [],
   "source": [
    "#!docker rm 15d81b0fd4156522ed6a8a043dc51dd4d6aa02426c447f63bc81261dd984f37c"
   ]
  },
  {
   "cell_type": "code",
   "execution_count": 18,
   "id": "9dfee121-a00b-4264-90f0-37396ce40b07",
   "metadata": {},
   "outputs": [],
   "source": [
    "############ ver purtos utilizados\n",
    "#!netstat -a -n -o"
   ]
  },
  {
   "cell_type": "code",
   "execution_count": 19,
   "id": "128ce190-0287-4beb-afc0-548b4227e620",
   "metadata": {},
   "outputs": [],
   "source": [
    "#####################    ver nombre del servicio ############\n",
    "#!tasklist | findstr 1468"
   ]
  },
  {
   "cell_type": "code",
   "execution_count": 30,
   "id": "241261de-5f1d-469f-b3b5-ca849d15d031",
   "metadata": {},
   "outputs": [
    {
     "name": "stdout",
     "output_type": "stream",
     "text": [
      "('information_schema',)\n",
      "('mysql',)\n",
      "('performance_schema',)\n",
      "('sys',)\n",
      "CMySQLCursor: Show databases;\n"
     ]
    }
   ],
   "source": [
    "############### conectar con mysql docker #################\n",
    "\n",
    "#!pip install mysql-connector-python\n",
    "import mysql.connector\n",
    "\n",
    "# Configuración de la conexión de MySQL con Docker\n",
    "cnx = mysql.connector.connect(\n",
    "    host=\"127.0.0.1\",\n",
    "    port=33060,\n",
    "    user=\"root\",\n",
    "    password=\"nanobots\")\n",
    "\n",
    "#  creo conexión con Mysql\n",
    "cur = cnx.cursor()\n",
    "\n",
    "# operaciones con \n",
    "cur.execute(\"Show databases;\")\n",
    " \n",
    "myresult = cur.fetchall()\n",
    " \n",
    "for x in myresult:\n",
    "    print(x)\n",
    "    \n",
    "#cur.execute(\"SELECT CURDATE()\")\n",
    "print(cur)\n",
    "cnx.close()"
   ]
  },
  {
   "cell_type": "code",
   "execution_count": 44,
   "id": "0e3ab99e-63a4-4e6e-a26d-7acde79f1428",
   "metadata": {},
   "outputs": [],
   "source": [
    "##### importo conector Mysql #####\n",
    "import mysql.connector\n",
    "from mysql.connector import Error"
   ]
  },
  {
   "cell_type": "code",
   "execution_count": 39,
   "id": "216df761-43d5-4ab2-a336-b250c2fe4e95",
   "metadata": {},
   "outputs": [],
   "source": [
    "##### Configuración de la conexión a MySQL al puerto del Docker #####\n",
    "config = {\n",
    "    'host':'127.0.0.1',\n",
    "    'port':'33060',\n",
    "    'user':'root',\n",
    "    'password':'nanobots'\n",
    "}"
   ]
  },
  {
   "cell_type": "code",
   "execution_count": 48,
   "id": "5564564c-789c-435a-94d6-ffe36383a737",
   "metadata": {},
   "outputs": [],
   "source": [
    "##### Funcion para operar con la base de datos #####\n",
    "def operar_db(query, conf):\n",
    "    # Configuración de la conexión a MySQL\n",
    "    config = conf\n",
    "\n",
    "    try:\n",
    "        # Crear una conexión\n",
    "        conn = mysql.connector.connect(**config)\n",
    "\n",
    "        # Comprobar si la conexión está activa\n",
    "        if conn.is_connected():\n",
    "            print(\"Conexión establecida\")\n",
    "\n",
    "            # Ejecutar la consulta\n",
    "            cursor = conn.cursor()\n",
    "            cursor.execute(query)\n",
    "            myresult = cursor.fetchall()\n",
    "            print(\"Operación exitosa.\")\n",
    "\n",
    "    except Error as e:\n",
    "        print(f\"Error: {e}\")\n",
    "\n",
    "    finally:\n",
    "        # Cerrar la conexión, independientemente de si hubo un error o no\n",
    "        if conn.is_connected():\n",
    "            cursor.close()\n",
    "            conn.close()\n",
    "            print(\"Conexión cerrada\")\n"
   ]
  },
  {
   "cell_type": "code",
   "execution_count": 57,
   "id": "808991ef-cc2b-418d-82f5-0b5cfec8dd30",
   "metadata": {},
   "outputs": [
    {
     "name": "stdout",
     "output_type": "stream",
     "text": [
      "Conexión establecida\n",
      "Operación exitosa.\n",
      "Conexión cerrada\n",
      "------ muestro tablas ----------\n",
      "('information_schema',)\n",
      "('mysql',)\n",
      "('performance_schema',)\n",
      "('sys',)\n"
     ]
    }
   ],
   "source": [
    "query = \"\"\"\n",
    "Show databases\n",
    "\"\"\"\n",
    "operar_db(query, config)\n",
    "print('------ muestro tablas ----------')\n",
    "for x in myresult:\n",
    "    print(x)"
   ]
  },
  {
   "cell_type": "code",
   "execution_count": null,
   "id": "c6a0ad55-0a3f-403a-8969-4ba5b6279a96",
   "metadata": {},
   "outputs": [],
   "source": [
    "######################################################################"
   ]
  },
  {
   "cell_type": "code",
   "execution_count": 41,
   "id": "e15f0bb0-e634-4a62-ac47-b13d7bac9474",
   "metadata": {},
   "outputs": [
    {
     "name": "stdout",
     "output_type": "stream",
     "text": [
      "('information_schema',)\n",
      "('mysql',)\n",
      "('performance_schema',)\n",
      "('sys',)\n",
      "[]\n"
     ]
    }
   ],
   "source": [
    "##### Creo una conexión para listar las tablas de la base #####\n",
    "\n",
    "conn = mysql.connector.connect(**config)\n",
    "\n",
    "try:\n",
    "    # Creo cursosr para operar con la base de datos\n",
    "    cursor = conn.cursor()\n",
    "    # Operaciones en la base de datos\n",
    "    cursor.execute(\"Show databases;\")\n",
    "    myresult = cursor.fetchall()\n",
    "    for x in myresult:\n",
    "        print(x)\n",
    "    result = cursor.fetchall()\n",
    "    print(result)\n",
    "finally:\n",
    "    # Cerrar la conexión, independientemente de si hubo un error o no\n",
    "    conn.close()\n"
   ]
  },
  {
   "cell_type": "code",
   "execution_count": 43,
   "id": "0eb535fe-efcc-4684-bb40-dfa2de30f8af",
   "metadata": {},
   "outputs": [
    {
     "ename": "SyntaxError",
     "evalue": "EOL while scanning string literal (345152361.py, line 12)",
     "output_type": "error",
     "traceback": [
      "\u001b[1;36m  Cell \u001b[1;32mIn[43], line 12\u001b[1;36m\u001b[0m\n\u001b[1;33m    cursor.execute(\"CREATE TABLE IF NOT EXISTS scraper\u001b[0m\n\u001b[1;37m                                                      ^\u001b[0m\n\u001b[1;31mSyntaxError\u001b[0m\u001b[1;31m:\u001b[0m EOL while scanning string literal\n"
     ]
    }
   ],
   "source": [
    "##### Creo una conexión para crear la tabla scraper #####\n",
    "\n",
    "import mysql.connector\n",
    "from mysql.connector import Error\n",
    "\n",
    "# Configuración de la conexión a MySQL\n",
    "config = {\n",
    "    'user': 'tu_usuario',\n",
    "    'password': 'tu_contraseña',\n",
    "    'host': 'localhost',\n",
    "    'database': 'tu_base_de_datos',\n",
    "    'raise_on_warnings': True\n",
    "}\n",
    "\n",
    "# Definir la consulta SQL para crear la tabla\n",
    "create_table_query = \"\"\"\n",
    "CREATE TABLE TuTabla (\n",
    "    id INT AUTO_INCREMENT PRIMARY KEY,\n",
    "    descripcion VARCHAR(255) NOT NULL,\n",
    "    precio INT DEFAULT NULL,\n",
    "    foto MEDIUMBLOB,\n",
    "    fecha TIMESTAMP DEFAULT CURRENT_TIMESTAMP\n",
    ");\n",
    "\"\"\"\n",
    "\n",
    "def ejecutar_consulta(query):\n",
    "    try:\n",
    "        # Crear una conexión\n",
    "        conn = mysql.connector.connect(**config)\n",
    "\n",
    "        # Comprobar si la conexión está activa\n",
    "        if conn.is_connected():\n",
    "            print(\"Conexión establecida\")\n",
    "\n",
    "            # Ejecutar la consulta\n",
    "            cursor = conn.cursor()\n",
    "            cursor.execute(query)\n",
    "            print(\"Tabla creada correctamente.\")\n",
    "\n",
    "    except Error as e:\n",
    "        print(f\"Error: {e}\")\n",
    "\n",
    "    finally:\n",
    "        # Cerrar la conexión, independientemente de si hubo un error o no\n",
    "        if conn.is_connected():\n",
    "            cursor.close()\n",
    "            conn.close()\n",
    "            print(\"Conexión cerrada\")\n",
    "\n",
    "# Ejecutar la consulta para crear la tabla\n",
    "ejecutar_consulta(create_table_query)"
   ]
  },
  {
   "cell_type": "code",
   "execution_count": null,
   "id": "a4f2e40a-f9e7-4715-af36-2488ebd30e03",
   "metadata": {},
   "outputs": [],
   "source": [
    "import mysql.connector\n",
    "from mysql.connector import Error\n",
    "\n",
    "def crear_tabla_mysql(query, user, password, host, database):\n",
    "    # Configuración de la conexión a MySQL\n",
    "    config = {\n",
    "        'user': user,\n",
    "        'password': password,\n",
    "        'host': host,\n",
    "        'database': database,\n",
    "        'raise_on_warnings': True\n",
    "    }\n",
    "\n",
    "    try:\n",
    "        # Crear una conexión\n",
    "        conn = mysql.connector.connect(**config)\n",
    "\n",
    "        # Comprobar si la conexión está activa\n",
    "        if conn.is_connected():\n",
    "            print(\"Conexión establecida\")\n",
    "\n",
    "            # Ejecutar la consulta\n",
    "            cursor = conn.cursor()\n",
    "            cursor.execute(query)\n",
    "            print(\"Tabla creada correctamente.\")\n",
    "\n",
    "    except Error as e:\n",
    "        print(f\"Error: {e}\")\n",
    "\n",
    "    finally:\n",
    "        # Cerrar la conexión, independientemente de si hubo un error o no\n",
    "        if conn.is_connected():\n",
    "            cursor.close()\n",
    "            conn.close()\n",
    "            print(\"Conexión cerrada\")\n",
    "\n",
    "# Ejemplo de uso\n",
    "# Reemplaza con tu propia consulta y datos de conexión\n",
    "consulta_crear_tabla = \"\"\"\n",
    "CREATE TABLE TuTabla (\n",
    "    id INT AUTO_INCREMENT PRIMARY KEY,\n",
    "    descripcion VARCHAR(255) NOT NULL,\n",
    "    precio INT DEFAULT NULL,\n",
    "    foto MEDIUMBLOB,\n",
    "    fecha TIMESTAMP DEFAULT CURRENT_TIMESTAMP\n",
    ");\n",
    "\"\"\"\n",
    "\n",
    "crear_tabla_mysql(consulta_crear_tabla, 'tu_usuario', 'tu_contraseña', 'localhost', 'tu_base_de_datos')"
   ]
  }
 ],
 "metadata": {
  "kernelspec": {
   "display_name": "Python 3 (ipykernel)",
   "language": "python",
   "name": "python3"
  },
  "language_info": {
   "codemirror_mode": {
    "name": "ipython",
    "version": 3
   },
   "file_extension": ".py",
   "mimetype": "text/x-python",
   "name": "python",
   "nbconvert_exporter": "python",
   "pygments_lexer": "ipython3",
   "version": "3.8.18"
  }
 },
 "nbformat": 4,
 "nbformat_minor": 5
}
